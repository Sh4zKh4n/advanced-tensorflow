{
 "cells": [
  {
   "cell_type": "markdown",
   "metadata": {},
   "source": [
    "# Setting Up: Installing tips, Installation  \n",
    "\n",
    "I will describe how I installed Tensorflow (`tf`) successfully on both Fedora 25 Workstation Linux and Ubuntu Linux (16.04 LTS) with a GeForce GTX 980 Ti (I'm seeking a hardware donation for a GeForce GTX 1080Ti; any help would be appreciated!) and a GeForce GTX 1050 (on a laptop (but kudos to NVIDIA because it is *exactly* the same as the desktop version, only under-clocked to run slightly slower (only mid-digit percentage performance decrease from desktop) to control for thermal output/heat).  \n",
    "\n",
    "You should follow [Installing TensorFlow on Ubuntu](https://www.tensorflow.org/install/install_linux); the purpose of this Python jupyter notebook is to not rehash the steps already there presented by the official `tf` page verbatim, but to describe my experience and give some tips from my experience.  \n",
    "\n",
    "Make sure to have installed already  \n",
    "- NVIDIA's proprietary graphics card driver\n",
    "- CUDA, i.e. CUDA Toolkit\n",
    "- `cuDNN`\n",
    "- `virtualenv` (install with `apt-get` with Ubuntu or `dnf` for Fedora; I found it helpful to try to use the official repositories as much as possible).  \n",
    "\n",
    "If you haven't installed the first 3, NVIDIA's graphics card driver, CUDA, cuDNN, I've found that getting them installed and up and running is *highly non-trivial* and in the worst case, you can really screw up your OS's video output and power on to a completely blank screen (because without a video driver how can your computer output anything other than the command-line?).  And you may have to change your BIOS settings in the case of Ubuntu and Dell laptops (I have a Dell Inspiron 15 in 7000 Gaming with the 1050).  This part, again, is *highly non-trivial* and took me a full day.  I'll drop links to more descriptions, helpful links, and tips, down below.  \n",
    "\n",
    "* **Do** install `tensorflow-gpu` using `virtualenv`.  This was strongly recommended, in bold by the official `tf` site, as the way to install `tf`, so it can't interfere or affect other Python programs on the same machine.  \n",
    "* **Don't** install `tensorflow` along with `tensorflow-gpu`.  I wanted to use my GPU exclusively for training my models.  I did not want to configure manually my `bash` profile and my system's Python for which version of `tf` to use (the one with CPU support only or the one with GPU support).  `pip install --upgrade tensorflow-gpu # for Python 2.7 and GPU` or `pip3 install --upgrade tensorflow-gpu # for Python 3.n and GPU` from the `virtualenv` and you can be sure that your models are being trained on the GPU when you do `import tensorflow`.   \n",
    "* **Do not** `sudo pip install` `tensorflow-gpu`.  In general, *do not* `sudo pip install` anything.  Use `pip install --user` (i.e. install by a user-by-user case).  "
   ]
  },
  {
   "cell_type": "code",
   "execution_count": null,
   "metadata": {},
   "outputs": [],
   "source": []
  }
 ],
 "metadata": {
  "kernelspec": {
   "display_name": "Python 2",
   "language": "python",
   "name": "python2"
  },
  "language_info": {
   "codemirror_mode": {
    "name": "ipython",
    "version": 2
   },
   "file_extension": ".py",
   "mimetype": "text/x-python",
   "name": "python",
   "nbconvert_exporter": "python",
   "pygments_lexer": "ipython2",
   "version": "2.7.13"
  }
 },
 "nbformat": 4,
 "nbformat_minor": 2
}
